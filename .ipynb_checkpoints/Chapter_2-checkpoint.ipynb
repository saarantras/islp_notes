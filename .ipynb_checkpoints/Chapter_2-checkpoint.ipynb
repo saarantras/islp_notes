{
 "cells": [
  {
   "cell_type": "markdown",
   "id": "a55f0ae8-13a3-4025-b25b-6b01f61f0331",
   "metadata": {},
   "source": [
    "Nomenclature...\n",
    "\n",
    "\n",
    "- $X=(X_1 + X_2 + X_3 ... X_p)$ : the \"input variables\". \n",
    "- $Y$ : the \"Output variable\". \n",
    "- \"noise\" : $\\epsilon$\n",
    "\n",
    "We hypothesize that there exists some relationship, $Y=f(X)+\\epsilon$\n",
    "\n",
    "This function, $f(X)$ is of much interest. We may wish to obtain a reasonable estimate for it (denoted $\\hat{f}(X)$), for two reasons. \n",
    "\n",
    "1. Prediction.\n",
    "\n",
    "- It may be easy to measure $X$ and hard to measure $Y$. To obtain an estimate of $Y$ (denoted $\\hat{Y}$) we may first obtain $\\hat{f}(X)$, observe $X$, then compute $\\hat{Y}=\\hat{f}(X)$.\n",
    "- The accuracy of $\\hat{Y}$ as an estimate of $Y$ will depend on two sources of error.\n",
    "    - reducible error : The difference between $f$ and $\\hat{f}$. Can be reduced by better estimates of \n",
    "    - irreducible error : Even if we find the exact function such that $f=\\hat{f}$, we still have some error, as \n",
    "        - $\\hat{Y}=\\hat{f}(X)=f(X)\\neq f(X)+\\epsilon=Y$\n",
    "    - irreducible error comes from $\\epsilon$\n",
    "\n",
    "2.Inference"
   ]
  }
 ],
 "metadata": {
  "kernelspec": {
   "display_name": "Python 3 (ipykernel)",
   "language": "python",
   "name": "python3"
  },
  "language_info": {
   "codemirror_mode": {
    "name": "ipython",
    "version": 3
   },
   "file_extension": ".py",
   "mimetype": "text/x-python",
   "name": "python",
   "nbconvert_exporter": "python",
   "pygments_lexer": "ipython3",
   "version": "3.10.12"
  }
 },
 "nbformat": 4,
 "nbformat_minor": 5
}
